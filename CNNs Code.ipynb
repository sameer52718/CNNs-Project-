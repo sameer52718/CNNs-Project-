{
 "cells": [
  {
   "cell_type": "code",
   "execution_count": 4,
   "metadata": {},
   "outputs": [],
   "source": [
    "import keras\n",
    "from tensorflow.keras.datasets import mnist\n",
    "from keras.layers import Conv2D, MaxPooling2D, Flatten, Dense, Dropout, BatchNormalization\n",
    "from keras.regularizers import l2\n",
    "from keras.models import Sequential\n"
   ]
  },
  {
   "cell_type": "code",
   "execution_count": 5,
   "metadata": {},
   "outputs": [
    {
     "name": "stdout",
     "output_type": "stream",
     "text": [
      "Downloading data from https://storage.googleapis.com/tensorflow/tf-keras-datasets/mnist.npz\n",
      "11490434/11490434 [==============================] - 2s 0us/step\n"
     ]
    }
   ],
   "source": [
    "# load the training and test data\n",
    "(x_train, y_train), (x_test, y_test) = mnist.load_data()"
   ]
  },
  {
   "cell_type": "code",
   "execution_count": 6,
   "metadata": {},
   "outputs": [],
   "source": [
    "# preprocess the data\n",
    "x_train = x_train.astype('float32') / 255.0\n",
    "x_test = x_test.astype('float32') / 255.0\n",
    "y_train = keras.utils.to_categorical(y_train, 10)\n",
    "y_test = keras.utils.to_categorical(y_test, 10)"
   ]
  },
  {
   "cell_type": "code",
   "execution_count": 8,
   "metadata": {},
   "outputs": [],
   "source": [
    "# define the model\n",
    "model = Sequential()\n",
    "model.add(Conv2D(32, kernel_size=(3, 3), activation='relu', input_shape=(28, 28, 1), kernel_regularizer=l2(0.01)))\n",
    "model.add(BatchNormalization())\n",
    "model.add(Conv2D(64, kernel_size=(3, 3), activation='relu', kernel_regularizer=l2(0.01)))\n",
    "model.add(BatchNormalization())\n",
    "model.add(MaxPooling2D(pool_size=(2, 2)))\n",
    "model.add(Dropout(0.25))\n",
    "model.add(Flatten())\n",
    "model.add(Dense(128, activation='relu'))\n",
    "model.add(BatchNormalization())\n",
    "model.add(Dropout(0.5))\n",
    "model.add(Dense(10, activation='softmax'))"
   ]
  },
  {
   "cell_type": "code",
   "execution_count": 9,
   "metadata": {},
   "outputs": [],
   "source": [
    "# compile the model\n",
    "model.compile(loss='categorical_crossentropy', optimizer='adam', metrics=['accuracy'])"
   ]
  },
  {
   "cell_type": "code",
   "execution_count": 10,
   "metadata": {},
   "outputs": [
    {
     "name": "stdout",
     "output_type": "stream",
     "text": [
      "Epoch 1/10\n"
     ]
    },
    {
     "name": "stderr",
     "output_type": "stream",
     "text": [
      "2023-01-18 14:37:51.746855: W tensorflow/tsl/framework/cpu_allocator_impl.cc:82] Allocation of 188160000 exceeds 10% of free system memory.\n"
     ]
    },
    {
     "name": "stdout",
     "output_type": "stream",
     "text": [
      "  2/938 [..............................] - ETA: 1:39 - loss: 3.2453 - accuracy: 0.2500 "
     ]
    },
    {
     "name": "stderr",
     "output_type": "stream",
     "text": [
      "2023-01-18 14:37:53.483851: W tensorflow/tsl/framework/cpu_allocator_impl.cc:82] Allocation of 23887872 exceeds 10% of free system memory.\n",
      "2023-01-18 14:37:53.484556: W tensorflow/tsl/framework/cpu_allocator_impl.cc:82] Allocation of 23887872 exceeds 10% of free system memory.\n",
      "2023-01-18 14:37:53.576850: W tensorflow/tsl/framework/cpu_allocator_impl.cc:82] Allocation of 23887872 exceeds 10% of free system memory.\n",
      "2023-01-18 14:37:53.577767: W tensorflow/tsl/framework/cpu_allocator_impl.cc:82] Allocation of 23887872 exceeds 10% of free system memory.\n"
     ]
    },
    {
     "name": "stdout",
     "output_type": "stream",
     "text": [
      "938/938 [==============================] - 79s 82ms/step - loss: 0.2882 - accuracy: 0.9535 - val_loss: 0.1216 - val_accuracy: 0.9731\n",
      "Epoch 2/10\n",
      "938/938 [==============================] - 76s 81ms/step - loss: 0.1111 - accuracy: 0.9751 - val_loss: 0.0718 - val_accuracy: 0.9838\n",
      "Epoch 3/10\n",
      "938/938 [==============================] - 76s 81ms/step - loss: 0.0883 - accuracy: 0.9807 - val_loss: 0.0809 - val_accuracy: 0.9817\n",
      "Epoch 4/10\n",
      "938/938 [==============================] - 76s 81ms/step - loss: 0.0822 - accuracy: 0.9821 - val_loss: 0.0758 - val_accuracy: 0.9816\n",
      "Epoch 5/10\n",
      "938/938 [==============================] - 76s 81ms/step - loss: 0.0716 - accuracy: 0.9835 - val_loss: 0.0563 - val_accuracy: 0.9878\n",
      "Epoch 6/10\n",
      "938/938 [==============================] - 76s 81ms/step - loss: 0.0668 - accuracy: 0.9851 - val_loss: 0.0548 - val_accuracy: 0.9889\n",
      "Epoch 7/10\n",
      "938/938 [==============================] - 76s 81ms/step - loss: 0.0624 - accuracy: 0.9862 - val_loss: 0.0766 - val_accuracy: 0.9827\n",
      "Epoch 8/10\n",
      "938/938 [==============================] - 77s 82ms/step - loss: 0.0577 - accuracy: 0.9874 - val_loss: 0.0516 - val_accuracy: 0.9890\n",
      "Epoch 9/10\n",
      "938/938 [==============================] - 75s 80ms/step - loss: 0.0559 - accuracy: 0.9875 - val_loss: 0.0602 - val_accuracy: 0.9861\n",
      "Epoch 10/10\n",
      "938/938 [==============================] - 75s 80ms/step - loss: 0.0546 - accuracy: 0.9877 - val_loss: 0.0468 - val_accuracy: 0.9903\n"
     ]
    },
    {
     "data": {
      "text/plain": [
       "<keras.callbacks.History at 0x7f2683b65270>"
      ]
     },
     "execution_count": 10,
     "metadata": {},
     "output_type": "execute_result"
    }
   ],
   "source": [
    "# fit the model on the training data\n",
    "model.fit(x_train, y_train, batch_size=64, epochs=10, validation_data=(x_test, y_test))"
   ]
  },
  {
   "cell_type": "code",
   "execution_count": 11,
   "metadata": {},
   "outputs": [
    {
     "name": "stdout",
     "output_type": "stream",
     "text": [
      "313/313 [==============================] - 3s 9ms/step - loss: 0.0468 - accuracy: 0.9903\n",
      "Test loss: 0.046841513365507126\n",
      "Test accuracy: 0.9902999997138977\n"
     ]
    }
   ],
   "source": [
    "# evaluation of model\n",
    "loss, accuracy = model.evaluate(x_test, y_test)\n",
    "print('Test loss:', loss)\n",
    "print('Test accuracy:', accuracy)"
   ]
  },
  {
   "cell_type": "code",
   "execution_count": null,
   "metadata": {},
   "outputs": [],
   "source": []
  }
 ],
 "metadata": {
  "kernelspec": {
   "display_name": "Python 3",
   "language": "python",
   "name": "python3"
  },
  "language_info": {
   "codemirror_mode": {
    "name": "ipython",
    "version": 3
   },
   "file_extension": ".py",
   "mimetype": "text/x-python",
   "name": "python",
   "nbconvert_exporter": "python",
   "pygments_lexer": "ipython3",
   "version": "3.10.4"
  },
  "orig_nbformat": 4,
  "vscode": {
   "interpreter": {
    "hash": "3ad933181bd8a04b432d3370b9dc3b0662ad032c4dfaa4e4f1596c548f763858"
   }
  }
 },
 "nbformat": 4,
 "nbformat_minor": 2
}
